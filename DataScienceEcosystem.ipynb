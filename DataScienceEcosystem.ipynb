{
  "metadata": {
    "kernelspec": {
      "name": "python",
      "display_name": "Python (Pyodide)",
      "language": "python"
    },
    "language_info": {
      "codemirror_mode": {
        "name": "python",
        "version": 3
      },
      "file_extension": ".py",
      "mimetype": "text/x-python",
      "name": "python",
      "nbconvert_exporter": "python",
      "pygments_lexer": "ipython3",
      "version": "3.8"
    }
  },
  "nbformat_minor": 5,
  "nbformat": 4,
  "cells": [
    {
      "id": "5e22ebc9-a267-42d7-9f22-16118e712fa4",
      "cell_type": "markdown",
      "source": "# Data Science Tools and Ecosystem ",
      "metadata": {}
    },
    {
      "id": "8fe5a4a9-4995-4253-b816-ba2757496a56",
      "cell_type": "markdown",
      "source": "## In this notebook , Data Science Tools and Ecosystem are summarized",
      "metadata": {}
    },
    {
      "id": "b9d68fd7-1d81-4867-a96d-742d5b755544",
      "cell_type": "markdown",
      "source": "**Objectives**\n1. Popular languages\n2. Libraries used\n3. Arithmetic expressions\n4. Using tables",
      "metadata": {}
    },
    {
      "id": "ef54401b-4578-4dd6-ac83-210c5819db49",
      "cell_type": "markdown",
      "source": "## Some of the popular languages that Data Scientists use are : \n1. Python\n2. Julia\n3. R",
      "metadata": {}
    },
    {
      "id": "97906386-6abb-4077-8ebe-1a1e1d940a00",
      "cell_type": "markdown",
      "source": "## Some of the commonly used libraries used by Data Scientists include :\n1. Pandas\n2. Numpy\n3. Tensorflow",
      "metadata": {}
    },
    {
      "id": "3a9777c2-2c71-4cc0-8fec-b32d752124f4",
      "cell_type": "markdown",
      "source": "|Data Science Tools| \n| ------ | \n| Visual Studio Code |\n| Google Colab | \n| Pycharm | \n| Jupyter Notebook |",
      "metadata": {}
    },
    {
      "id": "2fe65367-0d94-44c5-99b2-461ac62ccfe1",
      "cell_type": "markdown",
      "source": "### Below are a few examples of evaluating arithmetic expressions in python :",
      "metadata": {}
    },
    {
      "id": "3747fccd-011d-4db7-8a60-25699f7d8f34",
      "cell_type": "code",
      "source": "2 + 3",
      "metadata": {
        "trusted": true
      },
      "outputs": [
        {
          "execution_count": 12,
          "output_type": "execute_result",
          "data": {
            "text/plain": "5"
          },
          "metadata": {}
        }
      ],
      "execution_count": 12
    },
    {
      "id": "8452356f-4fde-4cc7-ac06-c1e4e64ad43e",
      "cell_type": "code",
      "source": "15 * 5",
      "metadata": {
        "trusted": true
      },
      "outputs": [
        {
          "execution_count": 13,
          "output_type": "execute_result",
          "data": {
            "text/plain": "75"
          },
          "metadata": {}
        }
      ],
      "execution_count": 13
    },
    {
      "id": "2d43af17-24c7-4da5-a528-358f68eadf8c",
      "cell_type": "code",
      "source": "42 / 8",
      "metadata": {
        "trusted": true
      },
      "outputs": [
        {
          "execution_count": 11,
          "output_type": "execute_result",
          "data": {
            "text/plain": "5.25"
          },
          "metadata": {}
        }
      ],
      "execution_count": 11
    },
    {
      "id": "aa430acc-5ac4-4452-8f17-84f14efa5bc1",
      "cell_type": "code",
      "source": "# This a simple arithmetic expression to multiply two numbers and then add integer\n(3*4) + 5",
      "metadata": {
        "trusted": true
      },
      "outputs": [
        {
          "execution_count": 14,
          "output_type": "execute_result",
          "data": {
            "text/plain": "17"
          },
          "metadata": {}
        }
      ],
      "execution_count": 14
    },
    {
      "id": "12a4c401-0c6a-4628-9c00-c5f357da4e06",
      "cell_type": "code",
      "source": "# This will convert 200 minutes to hours by diving by 60\ndato = 200\nhora = dato//60  \nminutos = dato % 60\n\nprint('Hora: ', hora, ' minutos: ', minutos)",
      "metadata": {
        "trusted": true
      },
      "outputs": [
        {
          "name": "stdout",
          "text": "Hora:  3  minutos:  20\n",
          "output_type": "stream"
        }
      ],
      "execution_count": 15
    },
    {
      "id": "7ba65a86-78f3-43d3-b97e-99dc2d951043",
      "cell_type": "markdown",
      "source": "## Author :  \nFélix Pastor Buil",
      "metadata": {}
    },
    {
      "id": "71c5f4ff-21c5-4112-a89f-ef45c778417a",
      "cell_type": "code",
      "source": "",
      "metadata": {
        "trusted": true
      },
      "outputs": [],
      "execution_count": null
    }
  ]
}